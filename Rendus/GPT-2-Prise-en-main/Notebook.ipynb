{
 "nbformat": 4,
 "nbformat_minor": 0,
 "metadata": {
  "colab": {
   "provenance": [],
   "toc_visible": true
  },
  "kernelspec": {
   "name": "python3",
   "language": "python",
   "display_name": "Python 3 (ipykernel)"
  },
  "language_info": {
   "name": "python"
  }
 },
 "cells": [
  {
   "cell_type": "code",
   "execution_count": null,
   "outputs": [],
   "source": [
    "from transformers import TFGPT2LMHeadModel, GPT2Tokenizer"
   ],
   "metadata": {
    "collapsed": false
   }
  },
  {
   "cell_type": "code",
   "execution_count": null,
   "outputs": [],
   "source": [
    "tokenizer = GPT2Tokenizer.from_pretrained(\"gpt2\", padding_side=\"left\")\n",
    "model = TFGPT2LMHeadModel.from_pretrained(\"gpt2\", from_pt=False, pad_token_id=tokenizer.eos_token_id)"
   ],
   "metadata": {
    "collapsed": false
   }
  },
  {
   "cell_type": "code",
   "execution_count": 5,
   "outputs": [],
   "source": [
    "input_text = \"What if\""
   ],
   "metadata": {
    "collapsed": false,
    "ExecuteTime": {
     "end_time": "2023-11-16T09:24:25.563572889Z",
     "start_time": "2023-11-16T09:24:25.524414309Z"
    }
   }
  },
  {
   "cell_type": "code",
   "execution_count": 6,
   "outputs": [],
   "source": [
    "# Tokenizer le texte d'entrée\n",
    "input_ids = tokenizer.encode(input_text, return_tensors='tf')"
   ],
   "metadata": {
    "collapsed": false,
    "ExecuteTime": {
     "end_time": "2023-11-16T09:24:25.564729141Z",
     "start_time": "2023-11-16T09:24:25.532663583Z"
    }
   }
  },
  {
   "cell_type": "code",
   "execution_count": 7,
   "outputs": [],
   "source": [
    "# Interroger le modèle pré-entraîné avec le texte d'entrée tokenizé\n",
    "output = model.generate(input_ids, max_length=100,do_sample=True, no_repeat_ngram_size=3,temperature=0.8)"
   ],
   "metadata": {
    "collapsed": false,
    "ExecuteTime": {
     "end_time": "2023-11-16T09:24:56.250439617Z",
     "start_time": "2023-11-16T09:24:25.545691379Z"
    }
   }
  },
  {
   "cell_type": "code",
   "execution_count": 8,
   "outputs": [
    {
     "name": "stdout",
     "output_type": "stream",
     "text": [
      "Output:\n",
      "----------------------------------------------------------------------------------------------------\n",
      "What if the next time a Republican was forced to run again, it was not the other way around?\n",
      "\n",
      "In his second presidential bid, Ben Carson had failed to win over any of the Republican Party's major donors. He received $4 million from David Koch and his brother, Charles. He was awarded a total of four grants to make up for the losses he received from Karl Rove and his family. But Carson's lack of a coherent, credible campaign strategy — especially after he declared it —\n"
     ]
    }
   ],
   "source": [
    "# Afficher le texte généré par le modèle pré-entraîné\n",
    "print(\"Output:\\n\" + 100 * '-')\n",
    "print(tokenizer.decode(output[0], skip_special_tokens=True))"
   ],
   "metadata": {
    "collapsed": false,
    "ExecuteTime": {
     "end_time": "2023-11-16T09:24:56.252036149Z",
     "start_time": "2023-11-16T09:24:56.250157954Z"
    }
   }
  },
  {
   "cell_type": "code",
   "execution_count": 9,
   "outputs": [],
   "source": [
    "# Nous allons maintenant effectuer quelques tests plus pertinent"
   ],
   "metadata": {
    "collapsed": false,
    "ExecuteTime": {
     "end_time": "2023-11-16T09:25:05.469757018Z",
     "start_time": "2023-11-16T09:25:05.459786567Z"
    }
   }
  },
  {
   "cell_type": "code",
   "execution_count": 10,
   "outputs": [
    {
     "name": "stdout",
     "output_type": "stream",
     "text": [
      "Output:\n",
      "----------------------------------------------------------------------------------------------------\n",
      "What a nuclear submarine is made of?\n",
      "\n",
      "I think it is the most advanced submarine in the world. It has a huge range so it can operate at up to 150 km per hour. The main problem is that it only has 5 tons of fuel.\n",
      "\n",
      "The submarine is the biggest weapon in the entire world but if we had the atomic bomb, it would be one of the biggest weapons in the history of mankind.\n",
      ",\n",
      "\n",
      "What is the best way for the world to meet\n"
     ]
    }
   ],
   "source": [
    "input_text = \"What a nuclear submarine is made of ?\"\n",
    "input_ids = tokenizer.encode(input_text, return_tensors='tf')\n",
    "output = model.generate(input_ids, max_length=100,do_sample=True, no_repeat_ngram_size=3,temperature=0.8)\n",
    "print(\"Output:\\n\" + 100 * '-')\n",
    "print(tokenizer.decode(output[0], skip_special_tokens=True))"
   ],
   "metadata": {
    "collapsed": false,
    "ExecuteTime": {
     "end_time": "2023-11-16T09:25:34.254306974Z",
     "start_time": "2023-11-16T09:25:05.991702921Z"
    }
   }
  },
  {
   "cell_type": "code",
   "execution_count": 11,
   "outputs": [
    {
     "name": "stdout",
     "output_type": "stream",
     "text": [
      "Output:\n",
      "----------------------------------------------------------------------------------------------------\n",
      "What is the best way to learn a language? The best way is to learn by reading. And read by talking. And learn by interacting with people.\"\n",
      "\n",
      "The next language is the one that most people talk about.\n",
      "\n",
      "It's not about being successful, it's \"doing what you love,\" and the best answer is \"doing more than what you need to do.\"\n",
      ",\n",
      "\n",
      "– The English Language Project\n",
      "\n",
      "\"There are so many great languages out there, and they\n"
     ]
    }
   ],
   "source": [
    "input_text = \"What is the best way to learn a language ?\"\n",
    "input_ids = tokenizer.encode(input_text, return_tensors='tf')\n",
    "output = model.generate(input_ids, max_length=100,do_sample=True, no_repeat_ngram_size=3,temperature=0.8)\n",
    "print(\"Output:\\n\" + 100 * '-')\n",
    "print(tokenizer.decode(output[0], skip_special_tokens=True))"
   ],
   "metadata": {
    "collapsed": false,
    "ExecuteTime": {
     "end_time": "2023-11-16T09:27:54.862314122Z",
     "start_time": "2023-11-16T09:27:27.183262164Z"
    }
   }
  },
  {
   "cell_type": "code",
   "execution_count": 13,
   "outputs": [
    {
     "name": "stdout",
     "output_type": "stream",
     "text": [
      "Output:\n",
      "----------------------------------------------------------------------------------------------------\n",
      "Alpine A110 is a good car for those who don't want to be a big car and want to have fun with it. It's not quite as good as the B-8, but it is a decent car. Not only are it great, but the A110 has plenty of power. Compared to the B8, it's also a little bit smaller, but much more reliable. Compared with the B7, the A-550 offers a much more stable handling than its predecessor.\n"
     ]
    }
   ],
   "source": [
    "input_text = \"Alpine A110 is a good car\"\n",
    "input_ids = tokenizer.encode(input_text, return_tensors='tf')\n",
    "output = model.generate(input_ids, max_length=100,do_sample=True, no_repeat_ngram_size=3,temperature=0.8)\n",
    "print(\"Output:\\n\" + 100 * '-')\n",
    "print(tokenizer.decode(output[0], skip_special_tokens=True))"
   ],
   "metadata": {
    "collapsed": false,
    "ExecuteTime": {
     "end_time": "2023-11-16T09:30:44.300941187Z",
     "start_time": "2023-11-16T09:30:16.036270654Z"
    }
   }
  },
  {
   "cell_type": "code",
   "execution_count": null,
   "outputs": [],
   "source": [],
   "metadata": {
    "collapsed": false
   }
  }
 ]
}
