{
 "nbformat": 4,
 "nbformat_minor": 0,
 "metadata": {
  "colab": {
   "provenance": [],
   "toc_visible": true
  },
  "kernelspec": {
   "name": "python3",
   "language": "python",
   "display_name": "Python 3 (ipykernel)"
  },
  "language_info": {
   "name": "python"
  }
 },
 "cells": [
  {
   "cell_type": "code",
   "execution_count": 3,
   "outputs": [],
   "source": [
    "from transformers import TFGPT2LMHeadModel, GPT2Tokenizer"
   ],
   "metadata": {
    "collapsed": false,
    "ExecuteTime": {
     "end_time": "2023-11-15T09:53:41.076261100Z",
     "start_time": "2023-11-15T09:53:38.954362600Z"
    }
   }
  },
  {
   "cell_type": "code",
   "execution_count": null,
   "outputs": [],
   "source": [
    "tokenizer = GPT2Tokenizer.from_pretrained(\"gpt2\", padding_side=\"left\")\n",
    "model = TFGPT2LMHeadModel.from_pretrained(\"gpt2\", from_pt=False, pad_token_id=tokenizer.eos_token_id)"
   ],
   "metadata": {
    "collapsed": false
   }
  },
  {
   "cell_type": "code",
   "execution_count": 27,
   "outputs": [],
   "source": [
    "input_text = \"What if\""
   ],
   "metadata": {
    "collapsed": false,
    "ExecuteTime": {
     "end_time": "2023-11-15T09:59:03.776494400Z",
     "start_time": "2023-11-15T09:59:03.769473800Z"
    }
   }
  },
  {
   "cell_type": "code",
   "execution_count": 28,
   "outputs": [],
   "source": [
    "# Tokenizer le texte d'entrée\n",
    "input_ids = tokenizer.encode(input_text, return_tensors='tf')"
   ],
   "metadata": {
    "collapsed": false,
    "ExecuteTime": {
     "end_time": "2023-11-15T09:59:03.962423400Z",
     "start_time": "2023-11-15T09:59:03.954407600Z"
    }
   }
  },
  {
   "cell_type": "code",
   "execution_count": 29,
   "outputs": [],
   "source": [
    "# Interroger le modèle pré-entraîné avec le texte d'entrée tokenizé\n",
    "output = model.generate(input_ids, max_length=100,do_sample=True, no_repeat_ngram_size=3,temperature=0.8)"
   ],
   "metadata": {
    "collapsed": false,
    "ExecuteTime": {
     "end_time": "2023-11-15T09:59:13.109362400Z",
     "start_time": "2023-11-15T09:59:04.348676600Z"
    }
   }
  },
  {
   "cell_type": "code",
   "execution_count": 30,
   "outputs": [
    {
     "name": "stdout",
     "output_type": "stream",
     "text": [
      "Output:\n",
      "----------------------------------------------------------------------------------------------------\n",
      "What if you want to turn your phone into a home screen and send your notifications while you're traveling?\n",
      "\n",
      "You can turn your smartphone into a notification-like device and send it to your phone with just a swipe. Or, you can turn it into a smart screen, and send notifications while your phone is in the road. There's no need to worry about getting distracted and turning on your phone or car while you wait for the next flight or shopping trip. Just tap the screen and let\n"
     ]
    }
   ],
   "source": [
    "# Afficher le texte généré par le modèle pré-entraîné\n",
    "print(\"Output:\\n\" + 100 * '-')\n",
    "print(tokenizer.decode(output[0], skip_special_tokens=True))"
   ],
   "metadata": {
    "collapsed": false,
    "ExecuteTime": {
     "end_time": "2023-11-15T09:59:13.123990Z",
     "start_time": "2023-11-15T09:59:13.110364500Z"
    }
   }
  },
  {
   "cell_type": "code",
   "execution_count": null,
   "outputs": [],
   "source": [],
   "metadata": {
    "collapsed": false
   }
  }
 ]
}
